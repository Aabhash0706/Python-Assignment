{
 "cells": [
  {
   "cell_type": "code",
   "execution_count": null,
   "id": "161bdc63-0521-4127-a5ba-863e09d9d3e5",
   "metadata": {},
   "outputs": [],
   "source": [
    "''' Q1. Explain the key features of Python\n",
    "Ans 1. Free and Open Source.\n",
    "Easy to code. \n",
    "Object-Oriented Language. \n",
    "GUI Programming Support. \n",
    "High-Level Language. \n",
    "Large Community Support. \n",
    "Python is a Portable language. \n",
    "Python is an Integrated language.\n",
    "'''"
   ]
  },
  {
   "cell_type": "code",
   "execution_count": null,
   "id": "1a299245-68f8-4892-b379-2248378748e2",
   "metadata": {},
   "outputs": [],
   "source": [
    "''' Q2 Describe the role of predefined keywords in Python and provide exaaples of how they are used in a\n",
    "program.\n",
    "Ans 2. Keywords are predefined, reserved words used in Python programming that have special meanings to the compiler. \n",
    "We cannot use a keyword as a variable name, function name, or any other identifier. They are used to define the syntax and structure of the Python language.\n",
    "All the keywords except True, False and None are in lowercase and they must be written as they are. \n",
    "Keywords in Python include: False, True, None, and, as, assert, async, await, def, del, elif, else, break, class, continue, except, finally, for, from, global, if, import, in, is, lambda, nonlocal, not, or, pass, raise, return, try, while, with and yield.\n"
   ]
  },
  {
   "cell_type": "code",
   "execution_count": 4,
   "id": "dd5a1e5e-c23f-494a-ad6f-239a923357e1",
   "metadata": {},
   "outputs": [
    {
     "name": "stdout",
     "output_type": "stream",
     "text": [
      "{'Name': 'Shyam', 'Roll No': '01'}\n"
     ]
    }
   ],
   "source": [
    "'''Q3. Compare and contrast mutable and immutable objects in Python with examples.\n",
    "Ans 3. Python data type is categorized into two types:\n",
    "•\tMutable Data Type – A mutable data type is those whose values can be changed.\n",
    "Example: List, Dictionaries, and Set\n",
    "'''\n",
    "a={\"Name\":\"Sonu\",\"Roll No\":\"01\"}\n",
    "a[\"Name\"]= \"Shyam\"\n",
    "print(a)\n",
    "\n",
    "#• Immutable Data Type – An immutable data type is one in which the values can’t be changed or altered.\n",
    "#Example: String and Tuples\n"
   ]
  },
  {
   "cell_type": "code",
   "execution_count": 8,
   "id": "8d6e96f7-4e6f-498a-8978-cfaf7c675412",
   "metadata": {},
   "outputs": [
    {
     "name": "stdout",
     "output_type": "stream",
     "text": [
      "30\n",
      "200\n",
      "2.0\n",
      "2\n",
      "False\n",
      "True\n",
      "10\n",
      "5\n",
      "True\n",
      "True\n",
      "False\n"
     ]
    }
   ],
   "source": [
    "#Q4. Discuss the different types of operators in Python and provide exaaples of how they are used?\n",
    "#•\tArithmetic operator :     \n",
    "num1=10 \n",
    "num2=20 \n",
    "print(num1+num2) \n",
    "print(num1*num2)\n",
    "print(num2/num1)  \n",
    "print(num2//num1) \n",
    "                                     \n",
    "\n",
    "#•\tComparison operator:  \n",
    "\n",
    "print(num1==num2) \n",
    "print(num1!=num2) \n",
    "                                     \n",
    "\n",
    "#•\tAssignment operator:  \n",
    "x=5 \n",
    "x=x+5 \n",
    "print(x) \n",
    "x+=5 \n",
    "\n",
    "#•\tLogical operator : AND(and),OR(or), NOT(not), XOR(^)\n",
    "\n",
    "#•\tBitwise operator :  bitwise AND(&) ,bitwise OR(|) \n",
    "#Eg 1:   \n",
    "x=7 \n",
    "y=5\t\n",
    "print(x & y)   \n",
    "                                          \n",
    "#•\tIdentity operator :          \n",
    "x=5 \n",
    "y=5\n",
    "print(x is y) \n",
    "\n",
    "#•\tMembership operator :      \n",
    "my_list=[1,2,3,4,5] \n",
    "print(5 in my_list)    \n",
    "print(7 in my_list)    \n"
   ]
  },
  {
   "cell_type": "code",
   "execution_count": 9,
   "id": "46f64f55-4d30-4594-bbc5-2cef04e8178a",
   "metadata": {},
   "outputs": [
    {
     "name": "stdout",
     "output_type": "stream",
     "text": [
      "<class 'int'>\n",
      "<class 'float'>\n",
      "10.0\n",
      "<class 'float'>\n",
      "21.0\n",
      "<class 'float'>\n",
      "10\n"
     ]
    },
    {
     "data": {
      "text/plain": [
       "int"
      ]
     },
     "execution_count": 9,
     "metadata": {},
     "output_type": "execute_result"
    }
   ],
   "source": [
    "#Q5. Explain the concept of type casting in Python with examples.\n",
    "#Ans5.  Implicit Type casting\n",
    "#Implicit type conversion is performed automatically by the interpreter, without user intervention. Python automatically converts one data type to another data type. This process doesn’t need any user involvement Python promotes the conversion of lower data type, for example, integer to higher data type says float to avoid data loss. This type of conversion or type casting is called UpCasting.\n",
    "# Python automatically converts \n",
    "# a to int \n",
    "a = 7\n",
    "print(type(a)) \n",
    " \n",
    "# Python automatically converts \n",
    "# b to float \n",
    "b = 3.0\n",
    "print(type(b)) \n",
    " \n",
    "# Python automatically converts \n",
    "# c to float as it is a float addition \n",
    "c = a + b \n",
    "print(c) \n",
    "print(type(c))\n",
    " \n",
    "# Python automatically converts \n",
    "# d to float as it is a float multiplication\n",
    "d = a * b\n",
    "print(d)\n",
    "print(type(d))\n",
    "\n",
    "#Explicit Type casting\n",
    "#In Explicit Type conversion, the user or programmer converts the data type of an object to the required data type. In Python we use predefined functions like int(), float(), str(), bool() etc to perform explicit type conversion.\n",
    "a = int(10.5) #converts a float object to int\n",
    "print(a)\n",
    "type(a)\n",
    "\n"
   ]
  },
  {
   "cell_type": "code",
   "execution_count": 11,
   "id": "20f2ad25-3f19-4304-a0ba-7bc3881a2df4",
   "metadata": {},
   "outputs": [
    {
     "name": "stdout",
     "output_type": "stream",
     "text": [
      "The number is positive.\n"
     ]
    }
   ],
   "source": [
    "#Q6. How do conditional statements work in Python? Illustrate with examples.\n",
    "#Ans6. If the condition is True, the code block indented below the if statement will be executed. If the condition is False, the code block will be skipped.Here's an example of how to use an if statement to check if a number is positive:\n",
    "num = 5\n",
    "if num > 0:\n",
    "    print(\"The number is positive.\")\n",
    "\n"
   ]
  },
  {
   "cell_type": "code",
   "execution_count": 13,
   "id": "bbaa4f6f-2132-4f02-9a08-654036d0c3d4",
   "metadata": {},
   "outputs": [
    {
     "name": "stdout",
     "output_type": "stream",
     "text": [
      "apple\n",
      "mango\n",
      "berry\n",
      "banana\n",
      "cherry\n",
      "date\n",
      "1\n",
      "2\n",
      "3\n",
      "hello\n",
      "hello\n",
      "hello\n",
      "hello\n",
      "hello\n",
      "hello\n",
      "hello\n",
      "hello\n",
      "hello\n",
      "hello\n",
      "hello\n",
      "hello\n",
      "hello\n",
      "hello\n",
      "hello\n",
      "hello\n",
      "hello\n",
      "hello\n",
      "hello\n",
      "hello\n",
      "hello\n",
      "hello\n",
      "hello\n",
      "hello\n",
      "hello\n",
      "hello\n",
      "hello\n",
      "hello\n",
      "hello\n",
      "hello\n",
      "hello\n",
      "hello\n",
      "hello\n",
      "hello\n",
      "hello\n",
      "hello\n",
      "hello\n",
      "hello\n",
      "hello\n",
      "hello\n",
      "hello\n",
      "hello\n",
      "hello\n",
      "hello\n",
      "hello\n",
      "hello\n",
      "hello\n",
      "hello\n",
      "hello\n",
      "hello\n"
     ]
    }
   ],
   "source": [
    "#Q7. Describe the different types of loops in Python and their use cases with examples.\n",
    "#Ans 7. Loops:  used for repetition\n",
    "#Eg :                  \n",
    "fruits=[\"apple\",\"mango\",\"berry\",\"banana\",\"cherry\",\"date\"] \n",
    "for fruit in fruits :\n",
    "    print(fruit)\n",
    "                         \n",
    "\n",
    "#Controlling the flow of loop : \n",
    "#a. break :                              \n",
    "for num in range(1,13): \n",
    "    if(num%4 ==0):\n",
    "        break \n",
    "    print(num) \n",
    "                                            \n",
    "\n",
    "#b. continuous :                   \n",
    "for i in range(11): \n",
    "    if(i%2 !=0): \n",
    "        continue \n",
    "        print(i)\n",
    "                                             \n",
    "\n",
    "#Nested Loops :                   \n",
    "for i in range(10): \n",
    "    for j in range(5): \n",
    "        print(\"hello\")\n",
    "                                             \n"
   ]
  },
  {
   "cell_type": "code",
   "execution_count": null,
   "id": "f7744695-0ac3-4ea4-af56-62074a9e48c1",
   "metadata": {},
   "outputs": [],
   "source": []
  }
 ],
 "metadata": {
  "kernelspec": {
   "display_name": "Python 3 (ipykernel)",
   "language": "python",
   "name": "python3"
  },
  "language_info": {
   "codemirror_mode": {
    "name": "ipython",
    "version": 3
   },
   "file_extension": ".py",
   "mimetype": "text/x-python",
   "name": "python",
   "nbconvert_exporter": "python",
   "pygments_lexer": "ipython3",
   "version": "3.10.8"
  }
 },
 "nbformat": 4,
 "nbformat_minor": 5
}
