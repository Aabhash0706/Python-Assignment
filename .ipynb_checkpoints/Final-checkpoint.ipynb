{
 "cells": [
  {
   "cell_type": "code",
   "execution_count": null,
   "id": "6718eca5-cdfe-4ccc-b0d4-cdc67ae03e52",
   "metadata": {},
   "outputs": [
    {
     "name": "stdin",
     "output_type": "stream",
     "text": [
      "Choose among Rock, Paper, Scisssor : rol\n"
     ]
    },
    {
     "name": "stdout",
     "output_type": "stream",
     "text": [
      "Please choose among the given options only\n"
     ]
    },
    {
     "name": "stdin",
     "output_type": "stream",
     "text": [
      "Do you want to play next turn : Y/ N  n\n"
     ]
    },
    {
     "name": "stdout",
     "output_type": "stream",
     "text": [
      "Thanks For Playing\n"
     ]
    },
    {
     "name": "stdin",
     "output_type": "stream",
     "text": [
      "Do you want to play next turn : Y/ N  n\n"
     ]
    },
    {
     "name": "stdout",
     "output_type": "stream",
     "text": [
      "Thanks For Playing\n",
      "Please choose among the given options only\n"
     ]
    },
    {
     "name": "stdin",
     "output_type": "stream",
     "text": [
      "Do you want to play next turn : Y/ N  n\n"
     ]
    },
    {
     "name": "stdout",
     "output_type": "stream",
     "text": [
      "Thanks For Playing\n"
     ]
    },
    {
     "name": "stdin",
     "output_type": "stream",
     "text": [
      "Do you want to play next turn : Y/ N  n\n"
     ]
    },
    {
     "name": "stdout",
     "output_type": "stream",
     "text": [
      "Thanks For Playing\n",
      "Please choose among the given options only\n"
     ]
    },
    {
     "name": "stdin",
     "output_type": "stream",
     "text": [
      "Do you want to play next turn : Y/ N  n\n"
     ]
    },
    {
     "name": "stdout",
     "output_type": "stream",
     "text": [
      "Thanks For Playing\n"
     ]
    }
   ],
   "source": [
    "import random\n",
    "options = (\"scissor\",\"rock\",\"paper\")\n",
    "computer= random.choice(options)\n",
    "player= input(\"Choose among Rock, Paper, Scisssor :\")\n",
    "while True:\n",
    "    while player not in options:\n",
    "        print(\"Please choose among the given options only\")\n",
    "        break\n",
    "    while player in options:\n",
    "        print(\"You have choosen :\",player)\n",
    "        print(\"Computer has choosen :\", computer)\n",
    "        if player == computer:\n",
    "            print(\"Its a tie!!\")\n",
    "        elif player == \"rock\" and computer == \"scissor\":\n",
    "            print(\"You Win this turn!!\")\n",
    "        elif player == \"paper\" and computer == \"rock\":\n",
    "            print(\"You Win this turn!!\")\n",
    "        elif player == \"scissor\" and computer == \"paper\":\n",
    "            print(\"You Win this turn!!\")\n",
    "        else:\n",
    "            print(\"You Lost this turn!!\")\n",
    "        break\n",
    "\n",
    "    play_again= input(\"Do you want to play next turn : Y/ N \")\n",
    "    play_again= play_again.lower()\n",
    "\n",
    "    if play_again != \"y\":\n",
    "        print(\"Thanks For Playing\")\n",
    "    else:\n",
    "        player1= input(\"Choose among Rock, Paper, Scisssor :\")\n",
    "        computer1= random.choice(options)\n",
    "\n",
    "        while player1 not in options:\n",
    "            print(\"Please choose among the given options only\")\n",
    "            break\n",
    "        while player1 in options:\n",
    "            print(\"Now You have choosen :\",player1)\n",
    "            print(\"Now Computer has choosen :\", computer1)\n",
    "            if player1 == computer1:\n",
    "                print(\"Its a tie!!\")\n",
    "            elif player1 == \"rock\" and computer1 == \"scissor\":\n",
    "                print(\"You Win this turn!!\")\n",
    "            elif player1 == \"paper\" and computer1 == \"rock\":\n",
    "                print(\"You Win this turn!!\")\n",
    "            elif player1 == \"scissor\" and computer1 == \"paper\":\n",
    "                print(\"You Win this turn!!\")\n",
    "            else:\n",
    "                print(\"You Lost this turn!!\")\n",
    "            break\n",
    "\n",
    "    play_again1= input(\"Do you want to play next turn : Y/ N \")\n",
    "    play_again1= play_again1.lower()\n",
    "\n",
    "    if play_again1 != \"y\":\n",
    "        print(\"Thanks For Playing\")\n",
    "    else:\n",
    "        player2= input(\"Choose among Rock, Paper, Scisssor :\")\n",
    "        computer2= random.choice(options)\n",
    "\n",
    "        while player2 not in options:\n",
    "            print(\"Please choose among the given options only\")\n",
    "            break\n",
    "        while player2 in options:\n",
    "            print(\"Now You have choosen :\",player2)\n",
    "            print(\"Now Computer has choosen :\", computer2)\n",
    "            if player2 == computer2:\n",
    "                print(\"Its a tie!!\")\n",
    "            elif player2 == \"rock\" and computer2 == \"scissor\":\n",
    "                print(\"You Win this turn!!\")\n",
    "            elif player2 == \"paper\" and computer2 == \"rock\":\n",
    "                print(\"You Win this turn!!\")\n",
    "            elif player2 == \"scissor\" and computer2 == \"paper\":\n",
    "                print(\"You Win this turn!!\")\n",
    "            else:\n",
    "                print(\"You Lost this turn!!\")\n",
    "            break\n",
    "            \n",
    "        break"
   ]
  },
  {
   "cell_type": "code",
   "execution_count": null,
   "id": "abba2f4b-807f-432b-878f-ffc81b23be7f",
   "metadata": {},
   "outputs": [],
   "source": []
  }
 ],
 "metadata": {
  "kernelspec": {
   "display_name": "Python 3 (ipykernel)",
   "language": "python",
   "name": "python3"
  },
  "language_info": {
   "codemirror_mode": {
    "name": "ipython",
    "version": 3
   },
   "file_extension": ".py",
   "mimetype": "text/x-python",
   "name": "python",
   "nbconvert_exporter": "python",
   "pygments_lexer": "ipython3",
   "version": "3.10.8"
  }
 },
 "nbformat": 4,
 "nbformat_minor": 5
}
